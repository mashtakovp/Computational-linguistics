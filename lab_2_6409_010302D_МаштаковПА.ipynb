{
 "cells": [
  {
   "cell_type": "markdown",
   "metadata": {},
   "source": [
    "# Лабораторная работа №2\n",
    "\n",
    "**Требования:**\n",
    "* Python >= 3.X\n",
    "\n",
    "Лабораторную работу необходимо выполнять в данном шаблоне. Результатом работы будет являться файл (с измененным именем), который необходимо выложить в Moodle.\n",
    "\n",
    "**Важно!!!** Имя файлу задавайте по следующему шаблону **lab_2_Группа_ФамилияИО.ipynb**. Например: если Вас зовут Иванов Иван Иванович, и Вы обучаетесь в группе 6207_010302D, то имя файла будет выглядеть так **lab_2_6407_010302D_ИвановИИ.ipynb**.\n",
    "\n",
    "Необходимо провести исследование различных способов представления документов и их влияние на качество определения тональности.\n",
    "\n",
    "В качестве входных данных к лабораторной работе взят широко известный набор данных IMDB, содержащий 50K обзоров фильмов ([imdb-dataset-of-50k-movie-reviews](https://disk.yandex.ru/i/DDb0zuyUmts5QA)). Откликами являются значения двух классов positive и negative."
   ]
  },
  {
   "cell_type": "code",
   "execution_count": 1,
   "metadata": {},
   "outputs": [
    {
     "name": "stderr",
     "output_type": "stream",
     "text": [
      "[nltk_data] Downloading package punkt to\n",
      "[nltk_data]     C:\\Users\\finnp\\AppData\\Roaming\\nltk_data...\n",
      "[nltk_data]   Package punkt is already up-to-date!\n",
      "[nltk_data] Downloading package stopwords to\n",
      "[nltk_data]     C:\\Users\\finnp\\AppData\\Roaming\\nltk_data...\n",
      "[nltk_data]   Package stopwords is already up-to-date!\n",
      "[nltk_data] Downloading package wordnet to\n",
      "[nltk_data]     C:\\Users\\finnp\\AppData\\Roaming\\nltk_data...\n",
      "[nltk_data]   Package wordnet is already up-to-date!\n"
     ]
    },
    {
     "data": {
      "text/html": [
       "<div>\n",
       "<style scoped>\n",
       "    .dataframe tbody tr th:only-of-type {\n",
       "        vertical-align: middle;\n",
       "    }\n",
       "\n",
       "    .dataframe tbody tr th {\n",
       "        vertical-align: top;\n",
       "    }\n",
       "\n",
       "    .dataframe thead th {\n",
       "        text-align: right;\n",
       "    }\n",
       "</style>\n",
       "<table border=\"1\" class=\"dataframe\">\n",
       "  <thead>\n",
       "    <tr style=\"text-align: right;\">\n",
       "      <th></th>\n",
       "      <th>review</th>\n",
       "      <th>sentiment</th>\n",
       "    </tr>\n",
       "  </thead>\n",
       "  <tbody>\n",
       "    <tr>\n",
       "      <th>0</th>\n",
       "      <td>One of the other reviewers has mentioned that ...</td>\n",
       "      <td>positive</td>\n",
       "    </tr>\n",
       "    <tr>\n",
       "      <th>1</th>\n",
       "      <td>A wonderful little production. &lt;br /&gt;&lt;br /&gt;The...</td>\n",
       "      <td>positive</td>\n",
       "    </tr>\n",
       "    <tr>\n",
       "      <th>2</th>\n",
       "      <td>I thought this was a wonderful way to spend ti...</td>\n",
       "      <td>positive</td>\n",
       "    </tr>\n",
       "    <tr>\n",
       "      <th>3</th>\n",
       "      <td>Basically there's a family where a little boy ...</td>\n",
       "      <td>negative</td>\n",
       "    </tr>\n",
       "    <tr>\n",
       "      <th>4</th>\n",
       "      <td>Petter Mattei's \"Love in the Time of Money\" is...</td>\n",
       "      <td>positive</td>\n",
       "    </tr>\n",
       "  </tbody>\n",
       "</table>\n",
       "</div>"
      ],
      "text/plain": [
       "                                              review sentiment\n",
       "0  One of the other reviewers has mentioned that ...  positive\n",
       "1  A wonderful little production. <br /><br />The...  positive\n",
       "2  I thought this was a wonderful way to spend ti...  positive\n",
       "3  Basically there's a family where a little boy ...  negative\n",
       "4  Petter Mattei's \"Love in the Time of Money\" is...  positive"
      ]
     },
     "execution_count": 1,
     "metadata": {},
     "output_type": "execute_result"
    }
   ],
   "source": [
    "# Код загрузки данных\n",
    "# Если хотите добавить какие-либо библиотеки\n",
    "# добавляйте их ИМЕННО ЗДЕСЬ\n",
    "import pandas as pd\n",
    "import nltk\n",
    "import re\n",
    "from sklearn.metrics import accuracy_score\n",
    "from nltk.corpus import stopwords\n",
    "from nltk.stem import WordNetLemmatizer\n",
    "from nltk.tokenize import word_tokenize\n",
    "from sklearn.feature_extraction.text import CountVectorizer, TfidfVectorizer\n",
    "from sklearn.model_selection import train_test_split\n",
    "from sklearn.svm import SVC\n",
    "from sklearn.ensemble import RandomForestClassifier\n",
    "from sklearn.metrics import accuracy_score\n",
    "from sklearn.decomposition import TruncatedSVD\n",
    "from sklearn.model_selection import GridSearchCV\n",
    "from sklearn.exceptions import ConvergenceWarning\n",
    "import warnings\n",
    "warnings.filterwarnings('ignore', category=ConvergenceWarning)\n",
    "\n",
    "    \n",
    "nltk.download('punkt')\n",
    "nltk.download('stopwords')\n",
    "nltk.download('wordnet')\n",
    "imdb_data = pd.read_csv(r'input/IMDB Dataset.csv')\n",
    "imdb_data.head(5)"
   ]
  },
  {
   "cell_type": "markdown",
   "metadata": {},
   "source": [
    "#### Шаг №1 Подготовка данных\n",
    "\n",
    "Обязательно предобработайте данные!\n",
    "\n"
   ]
  },
  {
   "cell_type": "code",
   "execution_count": 2,
   "metadata": {},
   "outputs": [],
   "source": [
    "# вставьте код здесь\n",
    "WNL = WordNetLemmatizer()\n",
    "def preprocess_text(text):\n",
    "    # Приведение к нижнему регистру\n",
    "    text = text.lower()\n",
    "    # Удаление тегов\n",
    "    text = text.replace('<br /><br />', '')\n",
    "    # Удаление спецсимволов\n",
    "    text = re.sub(r'[^a-z\\s]', ' ', text)  # Удаляет всё кроме букв и пробелов\n",
    "    # Токенизация\n",
    "    words = word_tokenize(text)\n",
    "    # Удаление стоп-слов\n",
    "    stop_words = set(stopwords.words('english'))\n",
    "    filtered_words = [word for word in words if word not in stop_words]\n",
    "    # Лемматизация\n",
    "    lemmatized_words = [WNL.lemmatize(word) for word in filtered_words]\n",
    "    # Возвращаем обработанный текст\n",
    "    return ' '.join(lemmatized_words)\n",
    "\n",
    "# Применение функции предобработки к столбцу review\n",
    "imdb_data['review'] = imdb_data['review'].apply(preprocess_text)\n"
   ]
  },
  {
   "cell_type": "code",
   "execution_count": 3,
   "metadata": {},
   "outputs": [],
   "source": [
    "#TruncatedSVD\n",
    "svd = TruncatedSVD(n_components=200, random_state=1)"
   ]
  },
  {
   "cell_type": "markdown",
   "metadata": {},
   "source": [
    "В качестве исследуемых способов представления текстов необходимо рассмотреть:\n",
    "\n",
    "#### 1.Компоненты вектора: частоты ([CountVectorizer](https://scikit-learn.org/stable/modules/generated/sklearn.feature_extraction.text.CountVectorizer.html))."
   ]
  },
  {
   "cell_type": "code",
   "execution_count": 4,
   "metadata": {},
   "outputs": [
    {
     "name": "stdout",
     "output_type": "stream",
     "text": [
      "CountVectorizer with svd:(50000, 200)\n"
     ]
    }
   ],
   "source": [
    "# вставьте код здесь\n",
    "# Векторизация текста с помощью CountVectorizer\n",
    "count_vectorizer = CountVectorizer()\n",
    "count_X = count_vectorizer.fit_transform(imdb_data['review'])\n",
    "\n",
    "\n",
    "count_X = svd.fit_transform(count_X)\n",
    "print(f\"CountVectorizer with svd:{count_X.shape}\")"
   ]
  },
  {
   "cell_type": "markdown",
   "metadata": {},
   "source": [
    "#### 2. Компоненты вектора: оценки tf-idf для слова ([TfidfVectorizer](https://scikit-learn.org/stable/modules/generated/sklearn.feature_extraction.text.TfidfVectorizer.html)). "
   ]
  },
  {
   "cell_type": "code",
   "execution_count": 5,
   "metadata": {},
   "outputs": [
    {
     "name": "stdout",
     "output_type": "stream",
     "text": [
      "Tf-idf with svd:(50000, 200)\n"
     ]
    }
   ],
   "source": [
    "# вставьте код здесь\n",
    "tfidf_vectorizer = TfidfVectorizer()\n",
    "# Применение векторизатора к обработанным текстам\n",
    "tfidf_X = tfidf_vectorizer.fit_transform(imdb_data['review'])\n",
    "tfidf_X = svd.fit_transform(tfidf_X)\n",
    "print(f\"Tf-idf with svd:{tfidf_X.shape}\")"
   ]
  },
  {
   "cell_type": "markdown",
   "metadata": {},
   "source": [
    "#### 3. Компоненты вектора: частоты N-грам."
   ]
  },
  {
   "cell_type": "code",
   "execution_count": 6,
   "metadata": {},
   "outputs": [
    {
     "name": "stdout",
     "output_type": "stream",
     "text": [
      "CountVectorizer (n_gram) with svd :(50000, 200)\n"
     ]
    }
   ],
   "source": [
    "# вставьте код здесь\n",
    "CountVectorizer_n = CountVectorizer(ngram_range=(2, 2))\n",
    "count_n_X = CountVectorizer_n.fit_transform(imdb_data['review'])\n",
    "\n",
    "count_n_X = svd.fit_transform(count_n_X)\n",
    "print(f\"CountVectorizer (n_gram) with svd :{count_n_X.shape}\")"
   ]
  },
  {
   "cell_type": "markdown",
   "metadata": {},
   "source": [
    "### Шаг 2. Исследование моделей\n",
    "\n",
    "<table>\n",
    "\t\t<tr>\n",
    "\t\t\t<td></td>\n",
    "\t\t\t<td>$y = 1$</td>\n",
    "\t\t\t<td>$y = 0$</td>\n",
    "\t\t</tr>\n",
    "\t\t<tr>\n",
    "\t\t\t<td>$a(x) = 1$</td>\n",
    "\t\t\t<td>True Positive (TP)</td>\n",
    "\t\t\t<td>False Positive (FP)</td>\n",
    "\t\t</tr>\n",
    "    \t<tr>\n",
    "\t\t\t<td>$a(x) = 0$</td>\n",
    "\t\t\t<td>False Negative (FN)</td>\n",
    "\t\t\t<td>True Negative (TN)</td>\n",
    "\t\t</tr>\n",
    "</table>\n",
    "\n",
    "В зависимости от способа представления оценить качество классификации как долю правильных ответов на выборке ($\\operatorname{accuracy} = \\frac{\\operatorname{TP} + \\operatorname{TN}}{\\operatorname{TP} + \\operatorname{TN} + \\operatorname{FP} + \\operatorname{FN}}$). Используйте перекрестную проверку ([cross_val_score](https://scikit-learn.org/stable/modules/generated/sklearn.model_selection.cross_val_score.html), [KFold](https://scikit-learn.org/stable/modules/generated/sklearn.model_selection.KFold.html)).\n",
    "\n",
    "Для каждого из нижеперечисленных моделей необходимо определить оптимальные гиперпараметры ([GridSearchCV](https://scikit-learn.org/stable/modules/generated/sklearn.model_selection.GridSearchCV.html))\n",
    "\n",
    "Качество классификации оцениваем для следующих моделей:\n",
    "\n",
    "#### 1. Машина опорных векторов ([SVC](https://scikit-learn.org/stable/modules/generated/sklearn.svm.SVC.html))."
   ]
  },
  {
   "cell_type": "code",
   "execution_count": 7,
   "metadata": {},
   "outputs": [],
   "source": [
    "imdb_data['sentiment'] = imdb_data['sentiment'].replace({'positive': 1, 'negative': 0})\n"
   ]
  },
  {
   "cell_type": "code",
   "execution_count": 8,
   "metadata": {},
   "outputs": [],
   "source": [
    "X_train_count, X_test_count, y_train, y_test = train_test_split(count_X, imdb_data['sentiment'], test_size=0.2, random_state=1)\n",
    "X_train_tfidf, X_test_tfidf, _, _ = train_test_split(tfidf_X, imdb_data['sentiment'], test_size=0.2, random_state=1)\n",
    "X_train_count_n, X_test_count_n, _, _ = train_test_split(count_n_X, imdb_data['sentiment'], test_size=0.2, random_state=1)"
   ]
  },
  {
   "cell_type": "code",
   "execution_count": 9,
   "metadata": {},
   "outputs": [
    {
     "name": "stdout",
     "output_type": "stream",
     "text": [
      "Лучшие параметры для CountVectorizer:, {'C': 1, 'gamma': 'auto', 'kernel': 'rbf'}, Точность: 0.8455999873073172\n",
      "Лучшие параметры для Tf-idf:, {'C': 1, 'gamma': 'scale', 'kernel': 'rbf'}, Точность: 0.8756249860948788\n",
      "Лучшие параметры для CountVectorizer (n-gram):, {'C': 1, 'gamma': 'scale', 'kernel': 'rbf'}, Точность: 0.7547250290676795\n"
     ]
    }
   ],
   "source": [
    "# вставьте код здесь\n",
    "svc = SVC(max_iter = 7000, random_state=1)\n",
    "parameters = {\n",
    "    'C': [0.1, 1, 10],  # Примерные значения для параметра регуляризации\n",
    "    'kernel': ['linear', 'rbf'],  # Ядра\n",
    "    'gamma': ['scale', 'auto']  # Параметр ядра\n",
    "}\n",
    "\n",
    "grid_search_svc = GridSearchCV(svc, parameters, cv=3, scoring='accuracy')\n",
    "\n",
    "# Для CountVectorizer\n",
    "grid_search_svc.fit(X_train_count, y_train)\n",
    "print(f\"Лучшие параметры для CountVectorizer:, {grid_search_svc.best_params_}, Точность: {grid_search_svc.best_score_}\")\n",
    "\n",
    "\n",
    "# Для Tf-idf\n",
    "grid_search_svc.fit(X_train_tfidf, y_train)\n",
    "print(f\"Лучшие параметры для Tf-idf:, {grid_search_svc.best_params_}, Точность: {grid_search_svc.best_score_}\")\n",
    "\n",
    "\n",
    "# Для CountVectorizer с n-gram\n",
    "grid_search_svc.fit(X_train_count_n, y_train)\n",
    "print(f\"Лучшие параметры для CountVectorizer (n-gram):, {grid_search_svc.best_params_}, Точность: {grid_search_svc.best_score_}\")\n"
   ]
  },
  {
   "cell_type": "markdown",
   "metadata": {},
   "source": [
    "#### 2. Случайный лес ([RandomForestClassifier](https://scikit-learn.org/stable/modules/generated/sklearn.ensemble.RandomForestClassifier.html))."
   ]
  },
  {
   "cell_type": "code",
   "execution_count": 11,
   "metadata": {},
   "outputs": [
    {
     "name": "stdout",
     "output_type": "stream",
     "text": [
      "Лучшие параметры для Random Forest с CountVectorizer:, {'max_depth': 10, 'min_samples_leaf': 4, 'min_samples_split': 2}, Точность: 0.7555748853223355\n",
      "Лучшие параметры для Random Forest с Tf-idf:, {'max_depth': 20, 'min_samples_leaf': 4, 'min_samples_split': 2}, Точность: 0.8070749578848965\n",
      "Лучшие параметры для Random Forest с CountVectorizer (n-gram):, {'max_depth': None, 'min_samples_leaf': 4, 'min_samples_split': 2}, Точность: 0.7430500334279769\n"
     ]
    }
   ],
   "source": [
    "# вставьте код здесь\n",
    "rfc = RandomForestClassifier(n_estimators = 50, random_state=1)\n",
    "\n",
    "parameters = {\n",
    "    'max_depth': [None, 10, 20],\n",
    "    'min_samples_split': [2, 4, 8],\n",
    "    'min_samples_leaf': [1, 2, 4] \n",
    "}\n",
    "grid_search_rfc = GridSearchCV(rfc, parameters, cv=3, scoring='accuracy')\n",
    "# Для CountVectorizer\n",
    "grid_search_rfc.fit(X_train_count, y_train)\n",
    "print(f\"Лучшие параметры для Random Forest с CountVectorizer:, {grid_search_rfc.best_params_}, Точность: {grid_search_rfc.best_score_}\")\n",
    "\n",
    "# Для Tf-idf\n",
    "grid_search_rfc.fit(X_train_tfidf, y_train)\n",
    "print(f\"Лучшие параметры для Random Forest с Tf-idf:, {grid_search_rfc.best_params_}, Точность: {grid_search_rfc.best_score_}\")\n",
    "\n",
    "# Для CountVectorizer с n-граммами\n",
    "grid_search_rfc.fit(X_train_count_n, y_train)\n",
    "print(f\"Лучшие параметры для Random Forest с CountVectorizer (n-gram):, {grid_search_rfc.best_params_}, Точность: {grid_search_rfc.best_score_}\")"
   ]
  },
  {
   "cell_type": "markdown",
   "metadata": {},
   "source": [
    "### Шаг 3. Сравнение результатов\n",
    "\n",
    "Сравнить точность обученных моделей. Найти наиболее точную."
   ]
  },
  {
   "cell_type": "code",
   "execution_count": 13,
   "metadata": {},
   "outputs": [
    {
     "name": "stdout",
     "output_type": "stream",
     "text": [
      "SVC Accuracy (Count Vectorizer): 0.8487\n",
      "SVC Accuracy (tfidf): 0.8758\n",
      "SVC Accuracy (Count Vectorizer N-grams): 0.7863\n",
      "RFC Accuracy (Count Vectorizer): 0.7551\n",
      "RFC Accuracy (tfidf): 0.8088\n",
      "RFC Accuracy (Count Vectorizer N-grams): 0.7545\n"
     ]
    }
   ],
   "source": [
    "# вставьте код здесь\n",
    "svc = SVC(C=1, gamma='auto', kernel='rbf', random_state=1)\n",
    "svc.fit(X_train_count, y_train)\n",
    "y_pred_svc = svc.predict(X_test_count)\n",
    "print(\"SVC Accuracy (Count Vectorizer):\", accuracy_score(y_pred_svc, y_test))\n",
    "\n",
    "svc = SVC(C=1, gamma='scale', kernel='rbf', random_state=1)\n",
    "svc.fit(X_train_tfidf, y_train)\n",
    "y_pred_svc = svc.predict(X_test_tfidf)\n",
    "print(\"SVC Accuracy (tfidf):\", accuracy_score(y_pred_svc, y_test))\n",
    "\n",
    "svc = SVC(C=1, gamma='scale', kernel='rbf', random_state=1)\n",
    "svc.fit(X_train_count_n, y_train)\n",
    "y_pred_svc = svc.predict(X_test_count_n)\n",
    "print(\"SVC Accuracy (Count Vectorizer N-grams):\", accuracy_score(y_pred_svc, y_test))\n",
    "\n",
    "rfc = RandomForestClassifier(max_depth=10, min_samples_leaf=4, min_samples_split=2, n_estimators = 50, random_state=1)\n",
    "rfc.fit(X_train_count, y_train)\n",
    "y_pred_rfc = rfc.predict(X_test_count)\n",
    "print(\"RFC Accuracy (Count Vectorizer):\", accuracy_score(y_pred_rfc, y_test))\n",
    "\n",
    "rfc = RandomForestClassifier(max_depth=20, min_samples_leaf=4, min_samples_split=2, n_estimators = 50, random_state=1)\n",
    "rfc.fit(X_train_tfidf, y_train)\n",
    "y_pred_rfc = rfc.predict(X_test_tfidf)\n",
    "print(\"RFC Accuracy (tfidf):\", accuracy_score(y_pred_rfc, y_test))\n",
    "\n",
    "rfc = RandomForestClassifier(max_depth=None, min_samples_leaf=4, min_samples_split=2, n_estimators = 50, random_state=1)\n",
    "rfc.fit(X_train_count_n, y_train)\n",
    "y_pred_rfc = rfc.predict(X_test_count_n)\n",
    "print(\"RFC Accuracy (Count Vectorizer N-grams):\", accuracy_score(y_pred_rfc, y_test))"
   ]
  },
  {
   "cell_type": "code",
   "execution_count": null,
   "metadata": {},
   "outputs": [],
   "source": []
  }
 ],
 "metadata": {
  "kernelspec": {
   "display_name": "Python 3 (ipykernel)",
   "language": "python",
   "name": "python3"
  },
  "language_info": {
   "codemirror_mode": {
    "name": "ipython",
    "version": 3
   },
   "file_extension": ".py",
   "mimetype": "text/x-python",
   "name": "python",
   "nbconvert_exporter": "python",
   "pygments_lexer": "ipython3",
   "version": "3.12.0"
  }
 },
 "nbformat": 4,
 "nbformat_minor": 4
}
